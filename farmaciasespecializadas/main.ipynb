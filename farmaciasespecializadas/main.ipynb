{
 "cells": [
  {
   "cell_type": "code",
   "execution_count": 1,
   "metadata": {},
   "outputs": [],
   "source": [
    "#All required Libraries\n",
    "from time import sleep\n",
    "from selenium import webdriver\n",
    "from selenium.webdriver.support.ui import WebDriverWait\n",
    "from selenium.webdriver.support import expected_conditions as EC\n",
    "from selenium.webdriver.common.by import By\n",
    "from pymongo import MongoClient\n",
    "import chromedriver_autoinstaller\n",
    "chromedriver_autoinstaller.install()\n",
    "options = webdriver.ChromeOptions() \n",
    "options.add_argument(\"start-maximized\")\n",
    "options.add_argument(\"--auto-open-devtools-for-tabs\")\n",
    "options.add_experimental_option(\"excludeSwitches\", [\"enable-automation\"])\n",
    "options.add_experimental_option('useAutomationExtension', False)\n",
    "driver = webdriver.Chrome(options=options)\n",
    "\n",
    "driver.maximize_window()"
   ]
  },
  {
   "cell_type": "code",
   "execution_count": 2,
   "metadata": {},
   "outputs": [],
   "source": [
    "    #All pages urls\n",
    "pagelst=['https://www.farmaciasespecializadas.com/especialidades/category/alta-especialidad-1/',\n",
    "         'https://www.farmaciasespecializadas.com/medicamentos-generales/category/medicamentos-1/',\n",
    "         'https://www.farmaciasespecializadas.com/art%C3%ADculos-de-medici%C3%B3n/category/equipos-de-medicion-1/',\n",
    "         'https://www.farmaciasespecializadas.com/bienestar-sexual/category/salud-sexual/',\n",
    "         'https://www.farmaciasespecializadas.com/cuidado-personal/category/cuidado-personal/',\n",
    "         'https://www.farmaciasespecializadas.com/dermacosm%C3%A9ticos/category/dermatologia-1/',\n",
    "         'https://www.farmaciasespecializadas.com/vitaminas-y-suplementos/category/vitaminicos-y-nutricionales/']\n",
    "\n",
    "pagelnght=[62,279,29,3,22,51,21]"
   ]
  },
  {
   "cell_type": "code",
   "execution_count": 81,
   "metadata": {},
   "outputs": [],
   "source": [
    "allLinks=[]\n",
    "category=[]\n",
    "for idx, page in enumerate(pagelst):\n",
    "    for x in range(pagelnght[idx]):\n",
    "        driver.get(page+str(x+1))\n",
    "        driver.implicitly_wait(5)\n",
    "        sleep(1)\n",
    "        #webdriver(driver,3).until(EC.presence_of_all_elements_located((By.CSS_SELECTOR,'#figure > a')))\n",
    "        links=WebDriverWait(driver,5).until(EC.presence_of_all_elements_located((By.CSS_SELECTOR,'#figure > a')))\n",
    "        for link in links:\n",
    "            allLinks.append(link.get_attribute('href'))\n",
    "            category.append(str(page+str(x+1)).split('/')[3])"
   ]
  },
  {
   "cell_type": "code",
   "execution_count": 82,
   "metadata": {},
   "outputs": [],
   "source": [
    "import pandas as pd\n",
    "df=pd.DataFrame()\n",
    "df['Links']=allLinks\n",
    "df['Category']=category\n",
    "df.to_excel('Links cat.xlsx')"
   ]
  },
  {
   "cell_type": "code",
   "execution_count": 54,
   "metadata": {},
   "outputs": [
    {
     "name": "stderr",
     "output_type": "stream",
     "text": [
      "C:\\Users\\shaik\\AppData\\Local\\Temp/ipykernel_13948/3834600176.py:2: DeprecationWarning: find_elements_by_* commands are deprecated. Please use find_elements() instead\n",
      "  links=driver.find_elements_by_css_selector('#figure > a')\n"
     ]
    }
   ],
   "source": [
    "driver.get('https://www.farmaciasespecializadas.com/medicamentos-generales/category/medicamentos-1/145')\n",
    "links=driver.find_elements_by_css_selector('#figure > a')"
   ]
  },
  {
   "cell_type": "code",
   "execution_count": 2,
   "metadata": {},
   "outputs": [],
   "source": [
    "driver.get('https://www.farmaciasespecializadas.com/medicamentos/detalle/15026-nexcare-vendita-codorod-caj-c10')"
   ]
  },
  {
   "cell_type": "code",
   "execution_count": 50,
   "metadata": {},
   "outputs": [
    {
     "data": {
      "text/plain": [
       "'Nexcare Venditas'"
      ]
     },
     "execution_count": 50,
     "metadata": {},
     "output_type": "execute_result"
    }
   ],
   "source": [
    "Name=WebDriverWait(driver,3).until(EC.presence_of_element_located((By.CSS_SELECTOR,'div>h1.titulo'))).text\n",
    "Name"
   ]
  },
  {
   "cell_type": "code",
   "execution_count": 51,
   "metadata": {},
   "outputs": [
    {
     "data": {
      "text/plain": [
       "'90.14'"
      ]
     },
     "execution_count": 51,
     "metadata": {},
     "output_type": "execute_result"
    }
   ],
   "source": [
    "price=WebDriverWait(driver,3).until(EC.presence_of_element_located((By.CSS_SELECTOR,'span.text-purple.fl'))).text.replace('$','').replace(',','')\n",
    "price"
   ]
  },
  {
   "cell_type": "code",
   "execution_count": 52,
   "metadata": {},
   "outputs": [
    {
     "data": {
      "text/plain": [
       "'Codo/Rodilla'"
      ]
     },
     "execution_count": 52,
     "metadata": {},
     "output_type": "execute_result"
    }
   ],
   "source": [
    "WebDriverWait(driver,3).until(EC.presence_of_element_located((By.CSS_SELECTOR,'p.text.text__title.text-base1.text-light.product__detail--top.detalles_bAr>span'))).text"
   ]
  },
  {
   "cell_type": "code",
   "execution_count": 53,
   "metadata": {},
   "outputs": [
    {
     "data": {
      "text/plain": [
       "'https://www.farmaciasespecializadas.com/ccstore/v1/images/?source=/file/v7165642595550665603/products/15026.jpg&height=300&width=300'"
      ]
     },
     "execution_count": 53,
     "metadata": {},
     "output_type": "execute_result"
    }
   ],
   "source": [
    "WebDriverWait(driver,3).until(EC.presence_of_element_located((By.CSS_SELECTOR,'img.img-responsive.center-block'))).get_attribute('src')"
   ]
  },
  {
   "cell_type": "code",
   "execution_count": null,
   "metadata": {},
   "outputs": [],
   "source": [
    "Pharmacy_name=\"Farmacias Especializadas FESA\""
   ]
  },
  {
   "cell_type": "code",
   "execution_count": null,
   "metadata": {},
   "outputs": [],
   "source": []
  }
 ],
 "metadata": {
  "kernelspec": {
   "display_name": "Python 3",
   "language": "python",
   "name": "python3"
  },
  "language_info": {
   "codemirror_mode": {
    "name": "ipython",
    "version": 3
   },
   "file_extension": ".py",
   "mimetype": "text/x-python",
   "name": "python",
   "nbconvert_exporter": "python",
   "pygments_lexer": "ipython3",
   "version": "3.8.10"
  },
  "orig_nbformat": 4,
  "vscode": {
   "interpreter": {
    "hash": "b4c01c8f52586033bb4bb2bf4f864991e275e728809d596b5bf2a750c26b84f7"
   }
  }
 },
 "nbformat": 4,
 "nbformat_minor": 2
}

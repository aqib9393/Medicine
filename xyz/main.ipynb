{
 "cells": [
  {
   "cell_type": "code",
   "execution_count": 1,
   "metadata": {},
   "outputs": [],
   "source": [
    "from selenium import webdriver\n",
    "from selenium.webdriver.common.by import By\n",
    "from time import sleep\n",
    "import edgedriver_autoinstaller\n",
    "edgedriver_autoinstaller.install()\n",
    "\n",
    "driver = webdriver.Edge()\n",
    "\n",
    "#driver = webdriver.Chrome()\n",
    "driver.get(\"https://www.yza.mx/\")\n"
   ]
  },
  {
   "cell_type": "code",
   "execution_count": 3,
   "metadata": {},
   "outputs": [],
   "source": [
    "driver.get(\"https://www.yza.mx/promociones-yza/precios-que-alivian/\")"
   ]
  },
  {
   "cell_type": "code",
   "execution_count": 7,
   "metadata": {},
   "outputs": [
    {
     "data": {
      "text/plain": [
       "'CERAVE'"
      ]
     },
     "execution_count": 7,
     "metadata": {},
     "output_type": "execute_result"
    }
   ],
   "source": [
    "#category\n",
    "driver.find_element(By.CSS_SELECTOR,'div.row.d-none.d-lg-flex>div.col>a.product-brand.m-0').text"
   ]
  },
  {
   "cell_type": "code",
   "execution_count": 8,
   "metadata": {},
   "outputs": [
    {
     "data": {
      "text/plain": [
       "'$343.00'"
      ]
     },
     "execution_count": 8,
     "metadata": {},
     "output_type": "execute_result"
    }
   ],
   "source": [
    "#price\n",
    "driver.find_element(By.CSS_SELECTOR,'div.prices>div.price>span>span.list.d-block>span.value>span.price-original>span.sales>div.large-price.w-100.d-flex.mb-1>span,value').text"
   ]
  },
  {
   "cell_type": "code",
   "execution_count": 13,
   "metadata": {},
   "outputs": [],
   "source": [
    "links=driver.find_elements(By.CSS_SELECTOR,'div.image-container.d-flex.justify-content-center.align-items-center.position-relative.p-2>a')"
   ]
  },
  {
   "cell_type": "code",
   "execution_count": 15,
   "metadata": {},
   "outputs": [],
   "source": [
    "allLinks=[]\n",
    "for link in links:\n",
    "    allLinks.append(link.get_attribute('href'))"
   ]
  },
  {
   "cell_type": "code",
   "execution_count": 26,
   "metadata": {},
   "outputs": [
    {
     "name": "stdout",
     "output_type": "stream",
     "text": [
      "\n",
      "YZA\n",
      "Yza Misoprostol 0.2Mg 28 Tabs\n",
      "$590.00\n",
      "\n",
      "ELECTROLIT\n",
      "Electrolit Mora Azul 625Ml\n",
      "$22.00\n",
      "\n",
      "ELECTROLIT\n",
      "Electrolit Lima Limón 625Ml\n",
      "$22.00\n",
      "\n",
      "ELECTROLIT\n",
      "Electrolit Fresa Kiwi 625Ml\n",
      "$22.00\n",
      "\n",
      "ELECTROLIT\n",
      "Electrolit Uva 625Ml\n",
      "$22.00\n",
      "\n",
      "ELECTROLIT\n",
      "Electrolit Manzana 625Ml\n",
      "$22.00\n",
      "\n",
      "\n",
      "\n",
      "\n",
      "\n",
      "\n",
      "\n",
      "EXFORGE\n",
      "Exforge 10Mg/320Mg 28 Comp\n",
      "$1,566.50\n",
      "\n",
      "\n",
      "\n",
      "\n",
      "CADUET\n",
      "Caduet 5Mg/20Mg 30 Tabs\n",
      "$1,987.50\n",
      "\n"
     ]
    }
   ],
   "source": [
    "for single in allLinks:\n",
    "    try:\n",
    "        driver.get(single)\n",
    "        sleep(1)\n",
    "        print()\n",
    "        print(driver.find_element(By.CSS_SELECTOR,'div.row.d-none.d-lg-flex>div.col>a.product-brand.m-0').text)\n",
    "        print(driver.find_element(By.CSS_SELECTOR,\"div.row.d-none.d-lg-flex>div.col>h2\").text)\n",
    "        print(driver.find_element(By.CSS_SELECTOR,'div.prices>div.price>span>span.list.d-block>span.value>span.price-original>span.sales>div.large-price.w-100.d-flex.mb-1>span,value').text)\n",
    "    except:\n",
    "        pass"
   ]
  },
  {
   "cell_type": "code",
   "execution_count": 21,
   "metadata": {},
   "outputs": [
    {
     "data": {
      "text/plain": [
       "'https://www.yza.mx/rivotril-0.5mg-30-comp/MXYZ_7613326005104.html'"
      ]
     },
     "execution_count": 21,
     "metadata": {},
     "output_type": "execute_result"
    }
   ],
   "source": [
    "single"
   ]
  },
  {
   "cell_type": "code",
   "execution_count": 23,
   "metadata": {},
   "outputs": [
    {
     "data": {
      "text/plain": [
       "['https://www.yza.mx/yza-misoprostol-0.2mg-28-tabs/MXYZ_7501258213950.html',\n",
       " 'https://www.yza.mx/electrolit-mora-azul-625ml/MXYZ_7501125174797.html',\n",
       " 'https://www.yza.mx/electrolit-lima-limon-625ml/MXYZ_7501125118562.html',\n",
       " 'https://www.yza.mx/electrolit-fresa-kiwi-625ml/MXYZ_7501125149221.html',\n",
       " 'https://www.yza.mx/electrolit-uva-625ml/MXYZ_7501125144851.html',\n",
       " 'https://www.yza.mx/electrolit-manzana-625ml/MXYZ_7501125104343.html',\n",
       " 'https://www.yza.mx/rivotril-0.5mg-30-comp/MXYZ_7613326005104.html',\n",
       " 'https://www.yza.mx/lyrica-50mg-28-caps/MXYZ_7501287670991.html',\n",
       " 'https://www.yza.mx/garbican-75mg-28-caps/MXYZ_7501299307472.html',\n",
       " 'https://www.yza.mx/baston-mango-aleman-de-un-apoyo-color/MXYZ_7502275840051.html',\n",
       " 'https://www.yza.mx/soloro-7-5mg-4-prchs/MXYZ_7502209290853.html',\n",
       " 'https://www.yza.mx/metix-andadera-rollator-burg/MXYZ_7502275840198.html',\n",
       " 'https://www.yza.mx/exforge-10mg320mg-28-comp/MXYZ_7501124820435.html',\n",
       " 'https://www.yza.mx/victan-2mg-30-comp/MXYZ_7501328980249.html',\n",
       " 'https://www.yza.mx/rivotril-2mg-30-comp/MXYZ_7613326005081.html',\n",
       " 'https://www.yza.mx/votripax-l-1mg-6-amp/MXYZ_7501125182891.html',\n",
       " 'https://www.yza.mx/caduet-5mg20mg-30-tabs/MXYZ_7501287670236.html',\n",
       " 'https://www.yza.mx/tylex-cd-500mg30mg-30-caps/MXYZ_7501100090159.html']"
      ]
     },
     "execution_count": 23,
     "metadata": {},
     "output_type": "execute_result"
    }
   ],
   "source": [
    "allLinks"
   ]
  },
  {
   "cell_type": "code",
   "execution_count": null,
   "metadata": {},
   "outputs": [],
   "source": []
  }
 ],
 "metadata": {
  "kernelspec": {
   "display_name": "Python 3",
   "language": "python",
   "name": "python3"
  },
  "language_info": {
   "codemirror_mode": {
    "name": "ipython",
    "version": 3
   },
   "file_extension": ".py",
   "mimetype": "text/x-python",
   "name": "python",
   "nbconvert_exporter": "python",
   "pygments_lexer": "ipython3",
   "version": "3.11.2"
  },
  "orig_nbformat": 4,
  "vscode": {
   "interpreter": {
    "hash": "23f823caeccb1684f6bd50492b68bb5eab208de0408f39b2457c6a38c0e8e818"
   }
  }
 },
 "nbformat": 4,
 "nbformat_minor": 2
}

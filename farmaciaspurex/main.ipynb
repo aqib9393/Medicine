{
 "cells": [
  {
   "cell_type": "code",
   "execution_count": 25,
   "metadata": {},
   "outputs": [],
   "source": [
    "from selenium import webdriver\n",
    "from selenium.webdriver.common.by import By\n",
    "from time import sleep\n",
    "import edgedriver_autoinstaller\n",
    "edgedriver_autoinstaller.install()\n",
    "\n",
    "driver = webdriver.Edge()\n",
    "\n",
    "#driver = webdriver.Chrome()\n",
    "driver.get(\"https://farmaciaspurex.com/products/bepanthen-5-pomada-100-gr\")\n"
   ]
  },
  {
   "cell_type": "code",
   "execution_count": 26,
   "metadata": {},
   "outputs": [],
   "source": [
    "driver.get(\"https://farmaciaspurex.com/products/cholal-modificado-10-amp-5-ml\")"
   ]
  },
  {
   "cell_type": "code",
   "execution_count": 3,
   "metadata": {},
   "outputs": [
    {
     "data": {
      "text/plain": [
       "'CHOLAL MODIFICADO 10 AMPOLLETAS 5 ML'"
      ]
     },
     "execution_count": 3,
     "metadata": {},
     "output_type": "execute_result"
    }
   ],
   "source": [
    "#category\n",
    "driver.find_element(By.CSS_SELECTOR,' div.product-meta > h1').text"
   ]
  },
  {
   "cell_type": "code",
   "execution_count": 42,
   "metadata": {},
   "outputs": [
    {
     "data": {
      "text/plain": [
       "'121.00'"
      ]
     },
     "execution_count": 42,
     "metadata": {},
     "output_type": "execute_result"
    }
   ],
   "source": [
    "#price\n",
    "driver.find_element(By.CSS_SELECTOR,'div.product-form__info-content > div.price-list > span').text.replace('Precio de venta\\n','').replace('$','').replace('MXN','').replace(' ','')"
   ]
  },
  {
   "cell_type": "code",
   "execution_count": 34,
   "metadata": {},
   "outputs": [],
   "source": [
    "links=driver.find_elements(By.CLASS_NAME,'product-item__image-wrapper ')"
   ]
  },
  {
   "cell_type": "code",
   "execution_count": 35,
   "metadata": {},
   "outputs": [],
   "source": [
    "allLinks=[]\n",
    "for link in links:\n",
    "    allLinks.append(link.get_attribute('href'))"
   ]
  },
  {
   "cell_type": "code",
   "execution_count": 43,
   "metadata": {},
   "outputs": [
    {
     "name": "stdout",
     "output_type": "stream",
     "text": [
      "\n",
      "POUCH GERBER PERA 110 G\n",
      "NESTLE S.A DE C.V\n",
      "19.17\n",
      "//cdn.shopify.com/s/files/1/0263/3236/4866/products/7501058614148_400x.jpg\n",
      "\n",
      "POUCH GERBER MANZANA PERA DURAZNO 120G\n",
      "NESTLE S.A DE C.V\n",
      "19.32\n",
      "//cdn.shopify.com/s/files/1/0263/3236/4866/products/7501000909735_400x.jpg\n",
      "\n",
      "POUCH GERBER MANZANA 110G\n",
      "NESTLE S.A DE C.V\n",
      "18.95\n",
      "//cdn.shopify.com/s/files/1/0263/3236/4866/products/7501058614322_400x.jpg\n",
      "\n",
      "POUCH GERBER FRUT MIXTAS 120G\n",
      "NESTLE S.A DE C.V\n",
      "19.41\n",
      "//cdn.shopify.com/s/files/1/0263/3236/4866/products/7501000909759_400x.jpg\n",
      "\n",
      "PAÑAL KLEEN BEBE SUAVELASTIC RECIEN NACIDO 17 PIEZAS\n",
      "KIMBERLY\n",
      "55.43\n",
      "//cdn.shopify.com/s/files/1/0263/3236/4866/products/7501943434721_400x.jpg\n",
      "\n",
      "PAÑAL HUGGIES ULTRA 1 RECIEN NACIDO CON 40\n",
      "KIMBERLY\n",
      "151.80\n",
      "//cdn.shopify.com/s/files/1/0263/3236/4866/products/7506425600007_400x.jpg\n",
      "\n",
      "PAÑAL HUGGIES SOFTCARE RECIEN NACIDO C38\n",
      "KIMBERLY\n",
      "184.92\n",
      "//cdn.shopify.com/s/files/1/0263/3236/4866/products/7501943416178_400x.jpg\n",
      "\n",
      "GERBER ZANAHORIA 1A ETAPA 71GR\n",
      "GERBER\n",
      "11.70\n",
      "//cdn.shopify.com/s/files/1/0263/3236/4866/products/75013394_400x.jpg\n",
      "\n",
      "GERBER VERDURAS, POLLO Y ARROZ 2A ETAPA\n",
      "GERBER\n",
      "14.64\n",
      "//cdn.shopify.com/s/files/1/0263/3236/4866/products/7501000904228_400x.jpg\n",
      "\n",
      "GERBER VERDURAS RES, ARROZ 113G 2A ETAPA\n",
      "GERBER\n",
      "14.98\n",
      "//cdn.shopify.com/s/files/1/0263/3236/4866/products/7501000904242_400x.jpg\n",
      "\n",
      "GERBER VERDURAS POLLO, ARROZ 3A ETAPA\n",
      "GERBER\n",
      "18.16\n",
      "//cdn.shopify.com/s/files/1/0263/3236/4866/products/7501000906246_400x.jpg\n",
      "\n",
      "CREON 25,000 30 CAPSULAS 300MG\n",
      "ABBOTT\n",
      "904.14\n",
      "//cdn.shopify.com/s/files/1/0263/3236/4866/products/7501033957949_400x.jpg\n",
      "\n",
      "CHOLAL MODIFICADO 10 AMPOLLETAS 5 ML\n",
      "ITALMEX\n",
      "426.81\n",
      "//cdn.shopify.com/s/files/1/0263/3236/4866/products/7501390912551_400x.jpg\n",
      "\n",
      "BEPANTHEN 5% POMADA 100 GR\n",
      "BAYER ET\n",
      "121.00\n",
      "//cdn.shopify.com/s/files/1/0263/3236/4866/products/7501008427330_400x.jpg\n"
     ]
    }
   ],
   "source": [
    "for single in allLinks:\n",
    "    try:\n",
    "        driver.get(single)\n",
    "        sleep(1)\n",
    "        print()\n",
    "        print(driver.find_element(By.CSS_SELECTOR,'div.product-meta > h1').text)\n",
    "        print(driver.find_element(By.CSS_SELECTOR,\" div.product-meta > div.product-meta__reference > a\").text)\n",
    "        print(driver.find_element(By.CSS_SELECTOR,'div.product-form__info-content > div.price-list > span').text.replace('Precio de venta\\n','').replace('$','').replace('MXN','').replace(' ',''))\n",
    "        print(driver.find_element(By.CSS_SELECTOR, ' div > div.price-list > span.price.price--compare').text.replace('Precio habitual\\n','').replace('$','').replace('MXN','').replace(' ',''))\n",
    "        print(driver.find_element(By.CSS_SELECTOR, 'div> div.product-block-list.product-block-list--small > div > div.product-block-list__item.product-block-list__item--gallery > div > div > div > div.product-gallery__carousel-wrapper > div > div > div > div > img').get_attribute('srcset').split('?v=')[0])\n",
    "    except:\n",
    "        pass"
   ]
  },
  {
   "cell_type": "code",
   "execution_count": 12,
   "metadata": {},
   "outputs": [],
   "source": [
    "single"
   ]
  },
  {
   "cell_type": "code",
   "execution_count": 13,
   "metadata": {},
   "outputs": [
    {
     "data": {
      "text/plain": [
       "[None]"
      ]
     },
     "execution_count": 13,
     "metadata": {},
     "output_type": "execute_result"
    }
   ],
   "source": [
    "allLinks"
   ]
  },
  {
   "cell_type": "code",
   "execution_count": 10,
   "metadata": {},
   "outputs": [
    {
     "data": {
      "text/plain": [
       "'ITALMEX'"
      ]
     },
     "execution_count": 10,
     "metadata": {},
     "output_type": "execute_result"
    }
   ],
   "source": [
    "driver.find_element(By.CSS_SELECTOR, 'div.product-meta > div.product-meta__reference > a').text"
   ]
  },
  {
   "cell_type": "code",
   "execution_count": 31,
   "metadata": {},
   "outputs": [
    {
     "data": {
      "text/plain": [
       "'//cdn.shopify.com/s/files/1/0263/3236/4866/products/7501033957949_400x.jpg'"
      ]
     },
     "execution_count": 31,
     "metadata": {},
     "output_type": "execute_result"
    }
   ],
   "source": [
    "driver.find_element(By.CSS_SELECTOR, 'div> div.product-block-list.product-block-list--small > div > div.product-block-list__item.product-block-list__item--gallery > div > div > div > div.product-gallery__carousel-wrapper > div > div > div > div > img').get_attribute('srcset').split('?v=')[0]"
   ]
  },
  {
   "cell_type": "code",
   "execution_count": 46,
   "metadata": {},
   "outputs": [
    {
     "data": {
      "text/plain": [
       "'134.05'"
      ]
     },
     "execution_count": 46,
     "metadata": {},
     "output_type": "execute_result"
    }
   ],
   "source": [
    "driver.find_element(By.CSS_SELECTOR, ' div > div.price-list > span.price.price--compare').text.replace('Precio habitual\\n','').replace('$','').replace('MXN','').replace(' ','')"
   ]
  },
  {
   "cell_type": "code",
   "execution_count": null,
   "metadata": {},
   "outputs": [],
   "source": []
  }
 ],
 "metadata": {
  "kernelspec": {
   "display_name": "Python 3",
   "language": "python",
   "name": "python3"
  },
  "language_info": {
   "codemirror_mode": {
    "name": "ipython",
    "version": 3
   },
   "file_extension": ".py",
   "mimetype": "text/x-python",
   "name": "python",
   "nbconvert_exporter": "python",
   "pygments_lexer": "ipython3",
   "version": "3.11.2"
  },
  "orig_nbformat": 4,
  "vscode": {
   "interpreter": {
    "hash": "23f823caeccb1684f6bd50492b68bb5eab208de0408f39b2457c6a38c0e8e818"
   }
  }
 },
 "nbformat": 4,
 "nbformat_minor": 2
}

{
 "cells": [
  {
   "cell_type": "code",
   "execution_count": 6,
   "metadata": {},
   "outputs": [],
   "source": [
    "#All required Libraries\n",
    "from time import sleep\n",
    "from selenium import webdriver\n",
    "from selenium.webdriver.support.ui import WebDriverWait\n",
    "from selenium.webdriver.support import expected_conditions as EC\n",
    "from selenium.webdriver.common.by import By\n",
    "from pymongo import MongoClient\n",
    "from selenium.webdriver.common.action_chains import ActionChains\n",
    "import chromedriver_autoinstaller\n",
    "chromedriver_autoinstaller.install()\n",
    "options = webdriver.ChromeOptions() \n",
    "# options.add_argument(\"start-maximized\")\n",
    "#options.add_argument(\"--auto-open-devtools-for-tabs\")\n",
    "options.add_experimental_option(\"excludeSwitches\", [\"enable-automation\"])\n",
    "options.add_experimental_option('useAutomationExtension', False)\n",
    "options.add_argument('--headless')\n",
    "options.add_argument('--disable-gpu')\n",
    "driver = webdriver.Chrome(options=options)\n",
    "\n",
    "driver.maximize_window()"
   ]
  },
  {
   "cell_type": "code",
   "execution_count": 8,
   "metadata": {},
   "outputs": [
    {
     "name": "stderr",
     "output_type": "stream",
     "text": [
      "C:\\Users\\shaik\\AppData\\Local\\Temp/ipykernel_5872/1752260751.py:4: DeprecationWarning: find_element_by_* commands are deprecated. Please use find_element() instead\n",
      "  page.append(driver.find_element_by_xpath('//*[@id=\"page-ng\"]/div/div/div/div/div[3]/div[18]/div[2]/div[1]/div/a['+str(x)+']').get_attribute('href'))\n",
      "C:\\Users\\shaik\\AppData\\Local\\Temp/ipykernel_5872/1752260751.py:6: DeprecationWarning: find_element_by_* commands are deprecated. Please use find_element() instead\n",
      "  page.append(driver.find_element_by_xpath('//*[@id=\"page-ng\"]/div/div/div/div/div[3]/div[18]/div[2]/div[2]/div/a['+str(x)+']').get_attribute('href'))\n",
      "C:\\Users\\shaik\\AppData\\Local\\Temp/ipykernel_5872/1752260751.py:8: DeprecationWarning: find_element_by_* commands are deprecated. Please use find_element() instead\n",
      "  page.append(driver.find_element_by_xpath('//*[@id=\"page-ng\"]/div/div/div/div/div[3]/div[18]/div[2]/div[3]/div/a['+str(x)+']').get_attribute('href'))\n",
      "C:\\Users\\shaik\\AppData\\Local\\Temp/ipykernel_5872/1752260751.py:10: DeprecationWarning: find_element_by_* commands are deprecated. Please use find_element() instead\n",
      "  page.append(driver.find_element_by_xpath('//*[@id=\"page-ng\"]/div/div/div/div/div[3]/div[18]/div[2]/div[4]/div/a['+str(x)+']').get_attribute('href'))\n"
     ]
    }
   ],
   "source": [
    "#vitimas\n",
    "page=[]\n",
    "for x in range(1,5):\n",
    "    page.append(driver.find_element_by_xpath('//*[@id=\"page-ng\"]/div/div/div/div/div[3]/div[18]/div[2]/div[1]/div/a['+str(x)+']').get_attribute('href'))\n",
    "for x in range(1,4):\n",
    "    page.append(driver.find_element_by_xpath('//*[@id=\"page-ng\"]/div/div/div/div/div[3]/div[18]/div[2]/div[2]/div/a['+str(x)+']').get_attribute('href'))\n",
    "for x in range(1,7):\n",
    "    page.append(driver.find_element_by_xpath('//*[@id=\"page-ng\"]/div/div/div/div/div[3]/div[18]/div[2]/div[3]/div/a['+str(x)+']').get_attribute('href'))\n",
    "for x in range(1,5):\n",
    "    page.append(driver.find_element_by_xpath('//*[@id=\"page-ng\"]/div/div/div/div/div[3]/div[18]/div[2]/div[4]/div/a['+str(x)+']').get_attribute('href'))"
   ]
  },
  {
   "cell_type": "code",
   "execution_count": 10,
   "metadata": {},
   "outputs": [],
   "source": [
    "import pandas as pd\n",
    "pages=pd.DataFrame()\n",
    "pages['Page']=page\n",
    "pages.to_excel('page.xlsx')"
   ]
  },
  {
   "cell_type": "code",
   "execution_count": 200,
   "metadata": {},
   "outputs": [
    {
     "data": {
      "text/plain": [
       "True"
      ]
     },
     "execution_count": 200,
     "metadata": {},
     "output_type": "execute_result"
    }
   ],
   "source": [
    "pages\n"
   ]
  },
  {
   "cell_type": "code",
   "execution_count": 2,
   "metadata": {},
   "outputs": [],
   "source": [
    "lk=[]"
   ]
  },
  {
   "cell_type": "code",
   "execution_count": 54,
   "metadata": {},
   "outputs": [
    {
     "name": "stderr",
     "output_type": "stream",
     "text": [
      "C:\\Users\\shaik\\AppData\\Local\\Temp/ipykernel_6092/89360695.py:1: DeprecationWarning: find_elements_by_* commands are deprecated. Please use find_elements() instead\n",
      "  pg=driver.find_elements_by_class_name('item-image')\n"
     ]
    },
    {
     "name": "stdout",
     "output_type": "stream",
     "text": [
      "0\n"
     ]
    }
   ],
   "source": [
    "pg=driver.find_elements_by_class_name('item-image')\n",
    "for x in pg:\n",
    "    if x.get_attribute('href') not in lk:\n",
    "        lk.append(x.get_attribute('href'))\n",
    "driver.execute_script(\"window.scrollBy(0, 5000)\")"
   ]
  },
  {
   "cell_type": "code",
   "execution_count": 79,
   "metadata": {},
   "outputs": [
    {
     "data": {
      "text/plain": [
       "True"
      ]
     },
     "execution_count": 79,
     "metadata": {},
     "output_type": "execute_result"
    }
   ],
   "source": [
    "driver.save_screenshot(\"screenshot.png\")"
   ]
  },
  {
   "cell_type": "code",
   "execution_count": null,
   "metadata": {},
   "outputs": [],
   "source": [
    "driver.find_element_by_class_name('prod-price-actual').text"
   ]
  },
  {
   "cell_type": "code",
   "execution_count": 127,
   "metadata": {},
   "outputs": [
    {
     "name": "stderr",
     "output_type": "stream",
     "text": [
      "C:\\Users\\shaik\\AppData\\Local\\Temp/ipykernel_4592/2707514874.py:1: DeprecationWarning: find_elements_by_* commands are deprecated. Please use find_elements() instead\n",
      "  link=driver.find_elements_by_class_name('item-image')\n"
     ]
    },
    {
     "name": "stdout",
     "output_type": "stream",
     "text": [
      "https://www.sams.com.mx/cafe-soluble/mezcla-en-polvo-para-preparar-cafe-nescafe-cappuccino-stick-24-sobres-de-20-g-c-u/980013208\n",
      "https://www.sams.com.mx/azucar-y-endulzantes/azucar-metco-bc-baja-en-calorias-4-kg/980019048\n",
      "https://www.sams.com.mx/capsulas-de-cafe/capsulas-de-cafe-dolce-gusto-nescafe-cappuccino-skinny-48-pzas/980036094\n",
      "https://www.sams.com.mx/capsulas-de-cafe/capsulas-de-cafe-dolce-gusto-nescafe-cappuccino-48-pzas/980036093\n",
      "https://www.sams.com.mx/capsulas-de-cafe/capsulas-de-cafe-dolce-gusto-nescafe-americano-48-pzas/980036095\n",
      "https://www.sams.com.mx/azucar-y-endulzantes/azucar-mascabado-metco-genuino-2-kg/000179026\n",
      "https://www.sams.com.mx/crema-para-cafe/sustituto-de-crema-coffee-mate-nestle-200-pzas-de-4-g/000067031\n",
      "https://www.sams.com.mx/cafe-soluble/cafe-soluble-taster-s-choice-nescafe-descafeinado-250-g/980014502\n",
      "https://www.sams.com.mx/cafe-soluble/cafe-soluble-taster-s-choice-nescafe-gourmet-250-g/980014504\n",
      "https://www.sams.com.mx/azucar-y-endulzantes/endulzante-svetia-550-sobres-de-1-g/000132621\n",
      "https://www.sams.com.mx/cafe-soluble/cafe-soluble-nescafe-2-pzas-de-350-g/000113369\n",
      "https://www.sams.com.mx/cafe-soluble/cafe-soluble-nescafe-taster-s-choice-flavors-aroma-a-vainilla-250-g/980032681\n",
      "https://www.sams.com.mx/crema-para-cafe/sustituto-de-crema-liquido-para-cafe-coffee-mate-baileys-3-pzas-de-530-g/980030202\n",
      "https://www.sams.com.mx/cafe-soluble/cafe-soluble-nescafe-decaf-300-g/980007477\n",
      "https://www.sams.com.mx/cafe-soluble/cafe-soluble-member-s-mark-1-kg/000719235\n",
      "https://www.sams.com.mx/cafe-molido-y-en-grano/cafe-de-grano-member-s-mark-1-kg/980027056\n",
      "https://www.sams.com.mx/cafe-molido-y-en-grano/cafe-espresso-member-s-mark-1-kg/980026797\n",
      "https://www.sams.com.mx/cafe-molido-y-en-grano/cafe-tostado-y-molido-member-s-mark-colombiano-1-kg/000080539\n",
      "https://www.sams.com.mx/cafe-molido-y-en-grano/cafe-tostado-y-molido-member-s-mark-ver-chis-oax-1-kg/000886621\n",
      "https://www.sams.com.mx/crema-para-cafe/sustituto-de-crema-member-s-mark-en-polvo-para-cafe-1-kg/980029284\n",
      "https://www.sams.com.mx/azucar-y-endulzantes/endulcorante-de-mesa-member-s-mark-660-sobres-de-1-g-c-u/000438587\n",
      "https://www.sams.com.mx/cafe-soluble/cafe-soluble-member-s-mark-300-g/000389388\n",
      "https://www.sams.com.mx/cafe-soluble/cafe-soluble-member-s-mark-descafeinado-300-g/000389773\n",
      "https://www.sams.com.mx/cafe-soluble/cafe-member-s-mark-capuccino-vainilla-1-8-kg/980003080\n",
      "https://www.sams.com.mx/cafe-soluble/polvo-para-preparar-cafe-member-s-mark-capuccino-moka-1-8-kg/000172838\n",
      "https://www.sams.com.mx/cafe-molido-y-en-grano/cafe-molido-la-parroquia-de-veracruz-gourmet-puro-1-kg/000268070\n",
      "https://www.sams.com.mx/azucar-y-endulzantes/endulzante-splenda-600-sobres-de-1-g-c-u/000143474\n",
      "https://www.sams.com.mx/tes-e-infusiones/te-verde-alessa-organico-84-pzas/000119703\n",
      "https://www.sams.com.mx/tes-e-infusiones/te-de-manzanilla-member-s-mark-200-bolsas-de-1-2-g/980025248\n",
      "https://www.sams.com.mx/tes-e-infusiones/te-member-s-mark-sabores-surtidos-120-pzas/980020409\n",
      "https://www.sams.com.mx/cafe-soluble/cafe-soluble-taster-s-choice-nescafe-descafeinado-250-g-2-tazas-de-cristal/980015512\n",
      "https://www.sams.com.mx/cafe-soluble/cafe-soluble-taster-s-choice-nescafe-gourmet-blend-250-g-2-tazas-de-cristal/980015511\n",
      "https://www.sams.com.mx/leche-en-caja-y-condensados/media-crema-nestle-8-pzas-de-225-g-c-u/000356303\n"
     ]
    }
   ],
   "source": [
    "link=driver.find_elements_by_class_name('item-image')\n",
    "for l in link:\n",
    "    print(l.get_attribute('href'))"
   ]
  },
  {
   "cell_type": "code",
   "execution_count": 128,
   "metadata": {},
   "outputs": [
    {
     "data": {
      "text/plain": [
       "33"
      ]
     },
     "execution_count": 128,
     "metadata": {},
     "output_type": "execute_result"
    }
   ],
   "source": [
    "len(link)"
   ]
  },
  {
   "cell_type": "code",
   "execution_count": 60,
   "metadata": {},
   "outputs": [
    {
     "name": "stderr",
     "output_type": "stream",
     "text": [
      "C:\\Users\\shaik\\AppData\\Local\\Temp/ipykernel_4592/2376250888.py:1: DeprecationWarning: find_element_by_* commands are deprecated. Please use find_element() instead\n",
      "  driver.find_element_by_class_name('menu-dropdown').click()\n"
     ]
    }
   ],
   "source": [
    "driver.find_element_by_class_name('menu-dropdown').click()"
   ]
  },
  {
   "cell_type": "code",
   "execution_count": null,
   "metadata": {},
   "outputs": [],
   "source": [
    "driver.find_element_by_class_name('dept-title')"
   ]
  },
  {
   "cell_type": "code",
   "execution_count": 28,
   "metadata": {},
   "outputs": [
    {
     "name": "stderr",
     "output_type": "stream",
     "text": [
      "C:\\Users\\shaik\\AppData\\Local\\Temp/ipykernel_9460/2321307115.py:3: DeprecationWarning: find_element_by_* commands are deprecated. Please use find_element() instead\n",
      "  a.move_to_element(driver.find_element_by_class_name('menu-dropdown')).click().perform()\n"
     ]
    }
   ],
   "source": [
    "\n",
    "from selenium.webdriver.common.action_chains import ActionChains\n",
    "a = ActionChains(driver)\n",
    "a.move_to_element(driver.find_element_by_class_name('menu-dropdown')).click().perform()"
   ]
  },
  {
   "cell_type": "code",
   "execution_count": 29,
   "metadata": {},
   "outputs": [
    {
     "name": "stderr",
     "output_type": "stream",
     "text": [
      "C:\\Users\\shaik\\AppData\\Local\\Temp/ipykernel_9460/1515200393.py:1: DeprecationWarning: find_elements_by_* commands are deprecated. Please use find_elements() instead\n",
      "  ref=driver.find_elements_by_css_selector('div.finelines>a')\n"
     ]
    }
   ],
   "source": [
    "ref=driver.find_elements_by_css_selector('div.finelines>a')"
   ]
  },
  {
   "cell_type": "code",
   "execution_count": 30,
   "metadata": {},
   "outputs": [],
   "source": [
    "allmainpage=[]\n",
    "for r in ref:\n",
    "    allmainpage.append(r.get_attribute('href'))"
   ]
  },
  {
   "cell_type": "code",
   "execution_count": 31,
   "metadata": {},
   "outputs": [],
   "source": [
    "import pandas as pd\n",
    "ap=pd.DataFrame()\n",
    "ap['All page']=allmainpage\n",
    "ap.to_excel('allmainpage.xlsx')\n"
   ]
  },
  {
   "cell_type": "code",
   "execution_count": 17,
   "metadata": {},
   "outputs": [
    {
     "data": {
      "text/html": [
       "<div>\n",
       "<style scoped>\n",
       "    .dataframe tbody tr th:only-of-type {\n",
       "        vertical-align: middle;\n",
       "    }\n",
       "\n",
       "    .dataframe tbody tr th {\n",
       "        vertical-align: top;\n",
       "    }\n",
       "\n",
       "    .dataframe thead th {\n",
       "        text-align: right;\n",
       "    }\n",
       "</style>\n",
       "<table border=\"1\" class=\"dataframe\">\n",
       "  <thead>\n",
       "    <tr style=\"text-align: right;\">\n",
       "      <th></th>\n",
       "    </tr>\n",
       "  </thead>\n",
       "  <tbody>\n",
       "  </tbody>\n",
       "</table>\n",
       "</div>"
      ],
      "text/plain": [
       "Empty DataFrame\n",
       "Columns: []\n",
       "Index: []"
      ]
     },
     "execution_count": 17,
     "metadata": {},
     "output_type": "execute_result"
    }
   ],
   "source": [
    "allmainpage"
   ]
  },
  {
   "cell_type": "code",
   "execution_count": 32,
   "metadata": {},
   "outputs": [
    {
     "name": "stderr",
     "output_type": "stream",
     "text": [
      "C:\\Users\\shaik\\AppData\\Local\\Temp/ipykernel_9460/3331836306.py:1: DeprecationWarning: find_elements_by_* commands are deprecated. Please use find_elements() instead\n",
      "  links=driver.find_elements_by_css_selector('a.item-image')\n"
     ]
    },
    {
     "data": {
      "text/plain": [
       "34"
      ]
     },
     "execution_count": 32,
     "metadata": {},
     "output_type": "execute_result"
    }
   ],
   "source": [
    "links=driver.find_elements_by_css_selector('a.item-image')\n",
    "len(links)"
   ]
  },
  {
   "cell_type": "code",
   "execution_count": null,
   "metadata": {},
   "outputs": [],
   "source": [
    "driver.find_element_by_css_selector('div.finelines>a').get_attribute('href')"
   ]
  },
  {
   "cell_type": "code",
   "execution_count": null,
   "metadata": {},
   "outputs": [],
   "source": [
    "for x in links:\n",
    "    print(x.get_attribute('href'))\n",
    "    print(x.text)"
   ]
  },
  {
   "cell_type": "code",
   "execution_count": 51,
   "metadata": {},
   "outputs": [
    {
     "data": {
      "text/plain": [
       "27"
      ]
     },
     "execution_count": 51,
     "metadata": {},
     "output_type": "execute_result"
    }
   ],
   "source": [
    "div.familyRow.first>div>a"
   ]
  },
  {
   "cell_type": "code",
   "execution_count": null,
   "metadata": {},
   "outputs": [],
   "source": [
    "allLinks=[]\n",
    "for x in links:\n",
    "    allLinks.append(x.get_attribute('href'))\n",
    "    print(x.text)"
   ]
  },
  {
   "cell_type": "code",
   "execution_count": 117,
   "metadata": {},
   "outputs": [],
   "source": [
    "import pandas as pd\n",
    "df=pd.DataFrame()\n",
    "df['All Pages']=allLinks\n",
    "df.to_excel('pageLink.xlsx')"
   ]
  },
  {
   "cell_type": "code",
   "execution_count": 6,
   "metadata": {},
   "outputs": [],
   "source": [
    "import pandas as pd\n",
    "pages=pd.read_excel('page.xlsx')\n",
    "page=pages['Page']"
   ]
  },
  {
   "cell_type": "code",
   "execution_count": 7,
   "metadata": {},
   "outputs": [
    {
     "name": "stderr",
     "output_type": "stream",
     "text": [
      "C:\\Users\\shaik\\AppData\\Local\\Temp/ipykernel_12252/1738832740.py:4: DeprecationWarning: find_elements_by_* commands are deprecated. Please use find_elements() instead\n",
      "  links=driver.find_elements_by_css_selector('a.item-image')\n"
     ]
    }
   ],
   "source": [
    "allLinks=[]\n",
    "for singlepage in page:\n",
    "    driver.get(singlepage)\n",
    "    links=driver.find_elements_by_css_selector('a.item-image')\n",
    "    for lnk in links:\n",
    "        allLinks.append(lnk.get_attribute('href'))"
   ]
  },
  {
   "cell_type": "code",
   "execution_count": 4,
   "metadata": {},
   "outputs": [
    {
     "data": {
      "text/plain": [
       "0      https://www.sams.com.mx/vitaminas-y-suplemento...\n",
       "1      https://www.sams.com.mx/vitaminas-y-suplemento...\n",
       "2      https://www.sams.com.mx/vitaminas-y-suplemento...\n",
       "3      https://www.sams.com.mx/vitaminas-y-suplemento...\n",
       "4      https://www.sams.com.mx/vitaminas-y-suplemento...\n",
       "                             ...                        \n",
       "410    https://www.sams.com.mx/medicamentos-con-recet...\n",
       "411    https://www.sams.com.mx/medicamentos-con-recet...\n",
       "412    https://www.sams.com.mx/medicamentos-con-recet...\n",
       "413    https://www.sams.com.mx/medicamentos-con-recet...\n",
       "414    https://www.sams.com.mx/medicamentos-con-recet...\n",
       "Name: All Links, Length: 415, dtype: object"
      ]
     },
     "execution_count": 4,
     "metadata": {},
     "output_type": "execute_result"
    }
   ],
   "source": [
    "import pandas as pd\n",
    "allLinks=pd.read_excel('allLinks.xlsx')\n",
    "allLinks['All Links']"
   ]
  },
  {
   "cell_type": "code",
   "execution_count": 11,
   "metadata": {},
   "outputs": [],
   "source": [
    "allData=[]"
   ]
  },
  {
   "cell_type": "code",
   "execution_count": 27,
   "metadata": {},
   "outputs": [],
   "source": [
    "for url in allLinks['All Links'][:5]:\n",
    "\n",
    "        driver.get(url)\n",
    "        #category\n",
    "\n",
    "        cat=WebDriverWait(driver,2).until(EC.presence_of_all_elements_located((By.CSS_SELECTOR,' span > a')))\n",
    "            #cat=driver.find_elements_by_css_selector('div.desktop.header-padding>div>ol>li')\n",
    "        _category=cat[-1].text\n",
    "            \n",
    "        \n",
    "        #price\n",
    "        _price=WebDriverWait(driver,2).until(EC.presence_of_element_located((By.CLASS_NAME,'prod-price-special'))).text\n",
    "        #_price=driver.find_element_by_class_name('prod-price-special').text\n",
    "        #name\n",
    "        _product=WebDriverWait(driver,2).until(EC.presence_of_element_located((By.CLASS_NAME,'prod-name'))).text\n",
    "        #_product=driver.find_element_by_class_name('prod-name').text\n",
    "        price=_price[:-2]+'.'+_price[-2:]\n",
    "        #cut price\n",
    "        try:\n",
    "            _cutPrice=WebDriverWait(driver,2).until(EC.presence_of_element_located((By.CLASS_NAME,'price-before-label'))).text\n",
    "            #_cutPrice=driver.find_element_by_class_name('price-before-label').text\n",
    "        except:\n",
    "            _cutPrice=''\n",
    "        #description\n",
    "        _description=WebDriverWait(driver,2).until(EC.presence_of_element_located((By.CLASS_NAME,'inner-htmlContent'))).text\n",
    "        #_description= driver.find_element_by_class_name('inner-htmlContent').text.replace('\\n',' ')\n",
    "        #image\n",
    "        images=[]\n",
    "        _image=WebDriverWait(driver,2).until(EC.presence_of_element_located((By.CSS_SELECTOR,'div.main-image>img'))).get_attribute('src')\n",
    "        #_image=driver.find_element_by_css_selector('div.main-image>img').get_attribute('src')\n",
    "        images.append(_image)\n",
    "        for x in range(1,4):\n",
    "            images.append(_image[:-5]+'-'+str(x)+'m.jpg')\n",
    "\n",
    "        d1={\n",
    "                \"Pharmacyname\":\"Sam's Club\",\n",
    "                \"URL\":url,\n",
    "                \"Category\":_category,\n",
    "                \"Product\":_product,\n",
    "                \"Price\":price,\n",
    "                \"CutPrice\":_cutPrice,\n",
    "                \"Image\":images,\n",
    "                'Amount':float(price.replace('$','')),\n",
    "                \"ExtraInfo\":{  \n",
    "                    _description\n",
    "                        }\n",
    "                    } \n",
    "        allData.append(d1)"
   ]
  },
  {
   "cell_type": "code",
   "execution_count": 222,
   "metadata": {},
   "outputs": [],
   "source": [
    "import pandas as pd\n",
    "sample=pd.DataFrame()\n",
    "sample['Data']=allData\n",
    "sample.to_excel('sample.xlsx')"
   ]
  },
  {
   "cell_type": "code",
   "execution_count": 22,
   "metadata": {},
   "outputs": [],
   "source": [
    "driver.get('https://www.sams.com.mx/cafe-soluble/mezcla-en-polvo-para-preparar-cafe-nescafe-cappuccino-stick-24-sobres-de-20-g-c-u/980013208')"
   ]
  },
  {
   "cell_type": "code",
   "execution_count": null,
   "metadata": {},
   "outputs": [],
   "source": []
  }
 ],
 "metadata": {
  "kernelspec": {
   "display_name": "Python 3",
   "language": "python",
   "name": "python3"
  },
  "language_info": {
   "codemirror_mode": {
    "name": "ipython",
    "version": 3
   },
   "file_extension": ".py",
   "mimetype": "text/x-python",
   "name": "python",
   "nbconvert_exporter": "python",
   "pygments_lexer": "ipython3",
   "version": "3.8.10"
  },
  "orig_nbformat": 4,
  "vscode": {
   "interpreter": {
    "hash": "b4c01c8f52586033bb4bb2bf4f864991e275e728809d596b5bf2a750c26b84f7"
   }
  }
 },
 "nbformat": 4,
 "nbformat_minor": 2
}
